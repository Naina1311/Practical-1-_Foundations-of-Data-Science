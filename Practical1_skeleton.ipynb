{
  "nbformat": 4,
  "nbformat_minor": 0,
  "metadata": {
    "colab": {
      "name": "Practical1_skeleton.ipynb",
      "provenance": [],
      "collapsed_sections": []
    },
    "language_info": {
      "file_extension": ".py",
      "codemirror_mode": {
        "name": "ipython",
        "version": 3
      },
      "mimetype": "text/x-python",
      "pygments_lexer": "ipython3",
      "version": "3.8.3",
      "nbconvert_exporter": "python",
      "name": "python"
    },
    "kernelspec": {
      "language": "python",
      "name": "python3",
      "display_name": "Python 3"
    }
  },
  "cells": [
    {
      "cell_type": "markdown",
      "metadata": {
        "id": "id1w7kwZVF3I"
      },
      "source": [
        "# Practical 1 : Implementation of Linear Regression (Ridge, Lasso)\n",
        "\n",
        "Team: \n",
        "Naina Srivastava : 21738117, \n",
        "Lorenzo Alessandro Repenning: 21717665 \n",
        "\n",
        "\n",
        "- Train a linear model\n",
        "    - using least squares method\n",
        "    - implement the model from scratch using NumPy \n",
        "    - Use learning curves plot to understand whether the linear moel is overfitting or underfitting\n",
        "- Train linear models with \n",
        "    - regularization (Ridge and Lasso)\n",
        "    - polynomial basis expansion\n",
        "    - use validation data to choose the hyperparameters\n",
        "    - scikit-learn\n",
        "    - Optional task: Use k-fold cross validation to choose the optimal hyperparameters (5 bonus points)\n",
        "\n",
        "We will use the following packages:"
      ]
    },
    {
      "cell_type": "code",
      "metadata": {
        "id": "CTZv9o5i4gy3"
      },
      "source": [
        "import numpy as np\n",
        "import matplotlib.pyplot as plt\n",
        "import _pickle as cp"
      ],
      "execution_count": 1,
      "outputs": []
    },
    {
      "cell_type": "markdown",
      "metadata": {
        "id": "b1-ZQWqTVPno"
      },
      "source": [
        "We will use the winequality dataset for this practical. The dataset is available here:\n",
        "https://archive.ics.uci.edu/ml/datasets/Wine+Quality. \n",
        "In order to make it easier to import the dataset, the dataset has been converted to the numpy array format and shuffled, so that we can start the practical directly. The converted dataset is available on the OLAT page."
      ]
    },
    {
      "cell_type": "markdown",
      "metadata": {
        "id": "TzDL9RQiVaPY"
      },
      "source": [
        "The dataset has two files. We’ll focus on the white wine data, which is the larger dataset. The following code loads the data:"
      ]
    },
    {
      "cell_type": "code",
      "metadata": {
        "id": "NYkwbebUVO_i",
        "colab": {
          "base_uri": "https://localhost:8080/"
        },
        "outputId": "4ec2e578-648f-4e28-da67-ce548a5138a3"
      },
      "source": [
        "# load the white wine dataset\n",
        "# X is the feature matrix that stores the feature values of the data records\n",
        "# y is the label vector that stores the labels of the data records\n",
        "X, y = cp.load(open('winequality-white.pickle', 'rb'))\n",
        "\n",
        "# check the size of the data\n",
        "print(\"X is a {} matrix, which contains {} data records and {} features.\".format(X.shape, X.shape[0], X.shape[1]))\n",
        "print(\"y is a {}-dimentional vector, which stores the corresponding labels of the data records in X\".format(y.shape[0]))\n"
      ],
      "execution_count": 2,
      "outputs": [
        {
          "output_type": "stream",
          "name": "stdout",
          "text": [
            "X is a (4898, 11) matrix, which contains 4898 data records and 11 features.\n",
            "y is a 4898-dimentional vector, which stores the corresponding labels of the data records in X\n"
          ]
        }
      ]
    },
    {
      "cell_type": "markdown",
      "metadata": {
        "id": "CGuNg0KbWN0z"
      },
      "source": [
        "We next split the data into training data and test data. \n",
        "In practice, we should sample randomly 80% of the data as training data and the rest as the test data. . \n",
        "However, in order to get consistent results, we use the first 80% of the data as training\n",
        "data and the remaining as the test data. \n",
        "To achieve this split, we define the following function."
      ]
    },
    {
      "cell_type": "code",
      "metadata": {
        "id": "6ZqbBa8bWNYg",
        "colab": {
          "base_uri": "https://localhost:8080/"
        },
        "outputId": "286d25a9-b18c-4772-e164-5137b25b3860"
      },
      "source": [
        "# The function splits the dataset into training data and testing data.\n",
        "# The parameter split_coeff is a percentage value such that\n",
        "# the first split_coeff of the dataset goes to the training dataset \n",
        "# and the remaining data goes to the test dataset.\n",
        "def split_data(X, y, split_coeff):\n",
        "    N, _ = X.shape # get the number of records (rows)\n",
        "    train_size = int(split_coeff * N) # use the first split_coeff of the data as the training data\n",
        "    X_train = X[:train_size] # the first training_size records\n",
        "    y_train = y[:train_size]\n",
        "    X_test = X[train_size:] # the last test_size records\n",
        "    y_test = y[train_size:]\n",
        "    return X_train, y_train, X_test, y_test\n",
        "\n",
        "X_train, y_train, X_test, y_test = split_data(X, y, 0.8) # split the data with split_coeff=0.8\n",
        "\n",
        "# check the size of the splitted dataset\n",
        "print(\"Shape of X_train:\", X_train.shape)\n",
        "print(\"Shape of y_train:\", y_train.shape)\n",
        "print(\"Shape of X_test:\", X_test.shape)\n",
        "print(\"Shape of y_test:\", y_test.shape)"
      ],
      "execution_count": 3,
      "outputs": [
        {
          "output_type": "stream",
          "name": "stdout",
          "text": [
            "Shape of X_train: (3918, 11)\n",
            "Shape of y_train: (3918,)\n",
            "Shape of X_test: (980, 11)\n",
            "Shape of y_test: (980,)\n"
          ]
        }
      ]
    },
    {
      "cell_type": "markdown",
      "metadata": {
        "id": "q2yKNR49Wkn8"
      },
      "source": [
        "## Understanding What We’re Predicting\n",
        "\n",
        "Let’s first check\n",
        "the distribution of the y-values in the training data. \n",
        "You will find that the values are integers between 3 and 9 indicating the quality of the wine.\n"
      ]
    },
    {
      "cell_type": "markdown",
      "metadata": {
        "id": "-PMpsZNSWthB"
      },
      "source": [
        "### **Task 1**\n",
        "Make a bar chart showing the distribution of y-values in the training data. You will find that the y-values are integers from 3 to 9, which indicate the quality of the wines."
      ]
    },
    {
      "cell_type": "code",
      "metadata": {
        "colab": {
          "base_uri": "https://localhost:8080/",
          "height": 294
        },
        "id": "4L_JDK3dWrsR",
        "outputId": "98cd109d-22bb-4ac8-b7af-3934706b8fd0"
      },
      "source": [
        "#@title\n",
        "# Task 1: \n",
        "# the function takes the y-values in the training data as the input and makes the bar chart. \n",
        "# Hint: Your function should make a bar chart looks like the bar chart below.\n",
        "\n",
        "\n",
        "\n",
        "def plot_bar_chart_score(y_train):\n",
        "  unique, counts = np.unique(y_train, return_counts=True)\n",
        "  a=dict(zip(unique, counts))\n",
        "   \n",
        "\n",
        "  plt.bar(range(len(a)), list(a.values()), align='center')\n",
        "  plt.xticks(range(len(a)), list(a.keys()))\n",
        "  plt.ylabel(\"Number of wines\")\n",
        "  plt.xlabel(\"Score\")\n",
        "  plt.title('Distribution of scores of wine')\n",
        "    ###################################################\n",
        "    ##### YOUR CODE STARTS HERE #######################\n",
        "    ###################################################\n",
        "\n",
        "    ###################################################\n",
        "    ##### YOUR CODE ENDS HERE #########################\n",
        "    ###################################################\n",
        "\n",
        "plot_bar_chart_score(y_train)"
      ],
      "execution_count": 4,
      "outputs": [
        {
          "output_type": "display_data",
          "data": {
            "image/png": "[encoded data removed]",
            "text/plain": [
              "<Figure size 432x288 with 1 Axes>"
            ]
          },
          "metadata": {
            "needs_background": "light"
          }
        }
      ]
    },
    {
      "cell_type": "markdown",
      "metadata": {
        "id": "GxjlElni2FcH"
      },
      "source": [
        "### **Task 2** \n",
        "This task is to build a trivial predictor, which always returns the mean of the y-values of the training data. We consider the trivial model as a baseline. The linear regression models we build later should perform better than this trivial model. "
      ]
    },
    {
      "cell_type": "code",
      "metadata": {
        "id": "-V3xFYexX1lt",
        "colab": {
          "base_uri": "https://localhost:8080/"
        },
        "outputId": "a6f0b644-e776-47e9-a7d4-fbfa69270a69"
      },
      "source": [
        "#@title\n",
        "# Task 2: implement the trivial predictor\n",
        "# The function computes the average value of y on the training label values\n",
        "def compute_average(y_train):\n",
        "  m_ytrain=np.mean(y_train, axis=0)\n",
        "    # The code below is just for compilation. \n",
        "    # You need to delete it and write your own code.\n",
        "    ###################################################\n",
        "    ##### YOUR CODE STARTS HERE #######################\n",
        "    ###################################################\n",
        "    # Hint: return the mean of y_train\n",
        "  return m_ytrain\n",
        "    ###################################################\n",
        "    ##### YOUR CODE ENDS HERE #########################\n",
        "    ###################################################\n",
        "\n",
        "y_train_avg = compute_average(y_train)\n",
        "print(\"Average of y on the training label values is {}\".format(y_train_avg))\n",
        "\n",
        "# The trivial predictor returns the average value.\n",
        "def trivial_predictor(X_test, y_train_avg):\n",
        "  return y_train_avg\n"
      ],
      "execution_count": 5,
      "outputs": [
        {
          "output_type": "stream",
          "name": "stdout",
          "text": [
            "Average of y on the training label values is 5.878764675855028\n"
          ]
        }
      ]
    },
    {
      "cell_type": "markdown",
      "metadata": {
        "id": "x531Q_SxXV14"
      },
      "source": [
        "### **Task 3**\n",
        "We next evaluate the trivial predictor on the training data and test data. \n",
        "We use mean squared error (MSE) to measure the performance of the predictor.\n",
        "The task is to implement a function that reports the mean squared error of the given predictor on the given data. "
      ]
    },
    {
      "cell_type": "code",
      "metadata": {
        "id": "mV8l6Ci9YlgL",
        "colab": {
          "base_uri": "https://localhost:8080/"
        },
        "outputId": "ebd15ab5-1752-44d0-839f-492f220a48b2"
      },
      "source": [
        "# We next test our trivial predictor on the training data and test data. \n",
        "# Implement a function that can report the mean squared error \n",
        "# of a predictor on the given data\n",
        "# Input: data and predictor\n",
        "# Output: mean squared error of the predictor on the given data\n",
        "def test_predictor(X, y, predictor: callable=None):\n",
        "    # Apply the predictor to each row of the matrix X to get the predictions\n",
        "    y_predicted = np.apply_along_axis(predictor, 1, X)\n",
        "\n",
        "    # TODO: compute the mean squared error of y\n",
        "    # The code below is just for compilation. \n",
        "    # You need to delete it and write your own code.\n",
        "    ###################################################\n",
        "    ##### YOUR CODE STARTS HERE #######################\n",
        "    ###################################################\n",
        "    mse = np.square(np.subtract(y,y_predicted)).mean() \n",
        "\n",
        "    ###################################################\n",
        "    ##### YOUR CODE ENDS HERE #########################\n",
        "    ###################################################\n",
        "    \n",
        "    return mse\n",
        "\n",
        "# use the function test_predictor to test the trivial predictor\n",
        "# we use the lambda function here to pass the function trivial predictor to the function test_predictor.\n",
        "mse_trivial_predictor_train = test_predictor(X_train, y_train, lambda x: trivial_predictor(x, y_train_avg))\n",
        "mse_trivial_predictor_test = test_predictor(X_test, y_test, lambda x: trivial_predictor(x, y_train_avg))\n",
        "\n",
        "# Report the result\n",
        "print('Trivial Predictor')\n",
        "print('--------------------------------------------------------------------------------\\n')\n",
        "print('MSE (Training) = %.4f' % mse_trivial_predictor_train)\n",
        "print('MSE (Testing)  = %.4f' % mse_trivial_predictor_test)"
      ],
      "execution_count": 6,
      "outputs": [
        {
          "output_type": "stream",
          "name": "stdout",
          "text": [
            "Trivial Predictor\n",
            "--------------------------------------------------------------------------------\n",
            "\n",
            "MSE (Training) = 0.7768\n",
            "MSE (Testing)  = 0.8139\n"
          ]
        }
      ]
    },
    {
      "cell_type": "markdown",
      "metadata": {
        "id": "geiyM1Nea0az"
      },
      "source": [
        "## Train the Linear Model Using Least Squares Method\n",
        "\n",
        "Let us train a linear model on the training data and then check its MSE. \n",
        "We use the closed form solution of the least squares estimate to get the parameters of the linear model. \n",
        "The linear model should perform better than the trivial predictor."
      ]
    },
    {
      "cell_type": "markdown",
      "metadata": {
        "id": "WSEwFGp_bqAI"
      },
      "source": [
        "### **Task 4**\n",
        "Before training the model, we need to standardize the data, i.e., transform the data so that every feature has mean 0 and variance 1. \n",
        "\n",
        "https://en.wikipedia.org/wiki/Standard_score\n",
        "\n",
        "We first standardize the training data. \n",
        "Then we apply the same transformation to the test data, i.e. standardize the test data using the means and the standard deviations of the training data. "
      ]
    },
    {
      "cell_type": "code",
      "metadata": {
        "id": "trjwkcgybhDH",
        "colab": {
          "base_uri": "https://localhost:8080/"
        },
        "outputId": "6349e809-35ea-4cda-9ea7-037d102ded6e"
      },
      "source": [
        "# The task is to implement a function that can standardize the data and returns the mean and std of the data.\n",
        "# Input: training data\n",
        "# Output: standardize training data, standard deviations and means\n",
        "def standardize_data(X):\n",
        "    # TODO: compute the means and standard deviations of the data, and standardize the data\n",
        "    # The code below is just for compilation. \n",
        "    # You need to replace it by your own code.\n",
        "    ###################################################\n",
        "    ##### YOUR CODE STARTS HERE #######################\n",
        "    ###################################################\n",
        "    mean = np.mean(X, axis=0)\n",
        "    std = np.std(X, axis=0)\n",
        "    X_std = (X-mean)/std\n",
        "    ###################################################\n",
        "    ##### YOUR CODE ENDS HERE #########################\n",
        "    ###################################################\n",
        "    \n",
        "    return X_std, mean, std\n",
        "\n",
        "# Standardize the training data and store the means and the stds \n",
        "X_train_std, X_train_mean, X_train_std_div = standardize_data(X_train)\n",
        "print(\"X_train_std:\", X_train_std.shape)\n",
        "print(\"Mean:\", X_train_mean)\n",
        "print(\"Standard deviation:\", X_train_std_div)"
      ],
      "execution_count": 7,
      "outputs": [
        {
          "output_type": "stream",
          "name": "stdout",
          "text": [
            "X_train_std: (3918, 11)\n",
            "Mean: [6.85427514e+00 2.78390761e-01 3.34892802e-01 6.42623788e+00\n",
            " 4.58213374e-02 3.53263144e+01 1.38513272e+02 9.94040729e-01\n",
            " 3.18647524e+00 4.89055641e-01 1.05115799e+01]\n",
            "Standard deviation: [8.39100902e-01 9.95630176e-02 1.24249975e-01 5.06377532e+00\n",
            " 2.16660282e-02 1.71004677e+01 4.23956179e+01 2.97972269e-03\n",
            " 1.49949475e-01 1.12992053e-01 1.22536544e+00]\n"
          ]
        }
      ]
    },
    {
      "cell_type": "code",
      "metadata": {
        "id": "RjzbA5JpM759",
        "colab": {
          "base_uri": "https://localhost:8080/"
        },
        "outputId": "9da8d94c-956f-491e-d8c9-e9234dead9e7"
      },
      "source": [
        "X_test_std = (X_test-X_train_mean)/X_train_std_div\n",
        "print(X_test_std.shape)"
      ],
      "execution_count": 8,
      "outputs": [
        {
          "output_type": "stream",
          "name": "stdout",
          "text": [
            "(980, 11)\n"
          ]
        }
      ]
    },
    {
      "cell_type": "markdown",
      "metadata": {
        "id": "cRPPA6HMbNOr"
      },
      "source": [
        "### **Task 5**\n",
        "We have standardized X-values. Do we need to standardize the y-values? Why?"
      ]
    },
    {
      "cell_type": "markdown",
      "metadata": {
        "id": "9he5QMmfqL3_"
      },
      "source": [
        "We standardize the x values to prevent multicollinearity and biasness from entering our model. Since y has no multicollinearity or bias issues, we do not need to standardize its values. "
      ]
    },
    {
      "cell_type": "markdown",
      "metadata": {
        "id": "vT4_Sl42bxmD"
      },
      "source": [
        "### **Task 6**\n",
        "Let's now train the linear model using the least-squares method. \n",
        "We need to add the bias term to the matrix X. "
      ]
    },
    {
      "cell_type": "code",
      "metadata": {
        "id": "A4JtLr6pdJV7",
        "colab": {
          "base_uri": "https://localhost:8080/"
        },
        "outputId": "ec11dc0d-1c45-404b-a47d-752137b0d96c"
      },
      "source": [
        "# The task is to implement the function that adds a column of ones to the front of the input matrix\n",
        "def expand_with_ones(X):\n",
        "    # TODO: add a column of ones to the front of the input matrix\n",
        "    # The code below is just for compilation. \n",
        "    # You need to replace it by your own code.\n",
        "    ###################################################\n",
        "    ##### YOUR CODE STARTS HERE #######################\n",
        "    ###################################################\n",
        "    one = np.ones((len(X),1))\n",
        "    X_out = np.append(one, X, axis=1)\n",
        "    return X_out\n",
        "    ###################################################\n",
        "    ##### YOUR CODE ENDS HERE #########################\n",
        "    ###################################################\n",
        "\n",
        "# Train the linear model using the least-squares method\n",
        "# The task is to implement the function that computes the parameters\n",
        "def least_squares_compute_parameters(X_input, y):\n",
        "    # add the bias column to the data\n",
        "    X = expand_with_ones(X_input)\n",
        "\n",
        "    # TODO: compute the parameters based on the expanded X and y using the least-squares method\n",
        "    # The code below is just for compilation. \n",
        "    # You need to replace it by your own code.\n",
        "    ###################################################\n",
        "    ##### YOUR CODE STARTS HERE #######################\n",
        "    ###################################################\n",
        "    w= np.dot((np.linalg.inv(np.dot(X.T,X))), np.dot(X.T,y))\n",
        "    return w\n",
        "    ###################################################\n",
        "    ##### YOUR CODE ENDS HERE #########################\n",
        "    ###################################################\n",
        "\n",
        "# Apply the function to train the linear model\n",
        "w = least_squares_compute_parameters(X_train_std, y_train) \n",
        "print(\"w:\", w.shape)\n",
        "print(w)"
      ],
      "execution_count": 9,
      "outputs": [
        {
          "output_type": "stream",
          "name": "stdout",
          "text": [
            "w: (12,)\n",
            "[ 5.87876468e+00  5.70365710e-02 -1.83384219e-01 -4.04067444e-03\n",
            "  4.09097280e-01 -8.17517111e-03  5.92929519e-02 -3.56633675e-03\n",
            " -4.36936781e-01  9.87381161e-02  6.53325059e-02  2.42495455e-01]\n"
          ]
        }
      ]
    },
    {
      "cell_type": "markdown",
      "metadata": {
        "id": "lasj_1PpeZib"
      },
      "source": [
        "After computing the parameters,\n",
        "we can build the linear model predictor.\n",
        "The predictor takes as input the computed parameters and the data, and predicts the labels for the input data."
      ]
    },
    {
      "cell_type": "code",
      "metadata": {
        "id": "Lb-hNagxc3Wj"
      },
      "source": [
        "# Implement the linear model predictor\n",
        "# Input: test data and parameters\n",
        "# Output: predicted values\n",
        "def linear_model_predictor(X, w):\n",
        "  y_predicted=np.dot(X,w)\n",
        "\n",
        "    # TODO: predict the labels for the input data\n",
        "    # The code below is just for compilation. \n",
        "    # You need to replace it by your own code.\n",
        "    ###################################################\n",
        "    ##### YOUR CODE STARTS HERE #######################\n",
        "    ###################################################\n",
        "  return y_predicted\n",
        "\n",
        "    ###################################################\n",
        "    ##### YOUR CODE ENDS HERE #########################\n",
        "    ###################################################\n"
      ],
      "execution_count": 10,
      "outputs": []
    },
    {
      "cell_type": "markdown",
      "metadata": {
        "id": "cFOYpwbufz7J"
      },
      "source": [
        "We can now evaluate our linear model predictor on the test data. "
      ]
    },
    {
      "cell_type": "code",
      "metadata": {
        "id": "LuHHmn2RB55j",
        "colab": {
          "base_uri": "https://localhost:8080/"
        },
        "outputId": "49d90c89-26fe-4b10-b416-fa3c3cbe6fb7"
      },
      "source": [
        "# use the function test_predictor to evaluate the linear model predictor\n",
        "mse_linear_model_predictor = test_predictor(expand_with_ones(X_test_std), y_test, lambda x: linear_model_predictor(x, w))\n",
        "print(\"Mean squared error is {}\".format(mse_linear_model_predictor))"
      ],
      "execution_count": 11,
      "outputs": [
        {
          "output_type": "stream",
          "name": "stdout",
          "text": [
            "Mean squared error is 0.5607292042283475\n"
          ]
        }
      ]
    },
    {
      "cell_type": "markdown",
      "metadata": {
        "id": "zqj4HKAihF7Q"
      },
      "source": [
        "## Learning Curves\n",
        "\n",
        "Let us check if the linear model is overfitting or underfitting. Since the dataset is somewhat large and there are only 11 features, the model shouldn't be overfitting. \n",
        "To check it, we need to check the learning curves, i.e. how the performance of the model changes when it is trained with increasingly more data. \n",
        "We train the model on the increasingly more data ([20, 40, ..., 600] data records), and evaluate the model by computing the MSE of the model on both the training data and the test data. \n",
        "We use the collected MSE to build the learning curves plot. "
      ]
    },
    {
      "cell_type": "markdown",
      "metadata": {
        "id": "MNf11kurCgKF"
      },
      "source": [
        "### **Task 7** \n",
        "\n",
        "Let's first implement a function that comprises what we have implemented above. \n",
        "The function takes as inputs the data and the split coefficient, and\n",
        "1. standardizes the data,\n",
        "2. trains the linear model, and\n",
        "3. reports the mse of the linear model predictor on both training and test datasets. "
      ]
    },
    {
      "cell_type": "code",
      "metadata": {
        "id": "UcGRQBrEb106",
        "colab": {
          "base_uri": "https://localhost:8080/"
        },
        "outputId": "d51ce91a-1570-4aa1-cf21-9e770da7cc10"
      },
      "source": [
        "# Input: training data and test data\n",
        "\n",
        "# Output: mse of the linear model predictor on both the training and test data\n",
        "def train_and_test(X_train, y_train, X_test, y_test):\n",
        "    # TODO: implement the function \n",
        "    # The code below is just for compilation. \n",
        "    # You need to replace it by your own code.\n",
        "    ###################################################\n",
        "    ##### YOUR CODE STARTS HERE #######################\n",
        "    ###################################################\n",
        "    # Hints: use the functions you have implemented\n",
        "    X_train_std, X_train_mean, X_train_std_div = standardize_data(X_train)\n",
        "    X_test_std = (X_test-X_train_mean)/X_train_std_div\n",
        "    X_input_test=expand_with_ones(X_test_std)\n",
        "    X_input_train=expand_with_ones(X_train_std)\n",
        "    w=least_squares_compute_parameters(X_train_std, y_train)\n",
        "    y_train_pred=linear_model_predictor(X_input_train, w)\n",
        "    mse_train = np.square(np.subtract(y_train,y_train_pred)).mean() \n",
        "    y_test_pred=linear_model_predictor(X_input_test, w)\n",
        "    mse_test = np.square(np.subtract(y_test,y_test_pred)).mean() \n",
        "  \n",
        "    return mse_train, mse_test\n",
        "    ###################################################\n",
        "    ##### YOUR CODE ENDS HERE #########################\n",
        "    ###################################################\n",
        "\n",
        "mse_train, mse_test = train_and_test(X_train, y_train, X_test, y_test)\n",
        "\n",
        "print('Linear Model')\n",
        "print('-----------------------\\n')\n",
        "print('MSE (Training) = %.4f' % mse_train)\n",
        "print('MSE (Testing)  = %.4f' % mse_test)"
      ],
      "execution_count": 12,
      "outputs": [
        {
          "output_type": "stream",
          "name": "stdout",
          "text": [
            "Linear Model\n",
            "-----------------------\n",
            "\n",
            "MSE (Training) = 0.5640\n",
            "MSE (Testing)  = 0.5607\n"
          ]
        }
      ]
    },
    {
      "cell_type": "markdown",
      "metadata": {
        "id": "NTJw_BrzhRwi"
      },
      "source": [
        "We are now ready to report the learning curves.\n",
        "The task is to train the linear model on the increasingly more data ([20, 40, ..., 600] data records)\n",
        "and store the MSE of the trained model on the training data and the test data in the lists `mse_train_v` and `mse_test`, respectively. \n",
        "We have provided the code for generating the learning curves from `mse_train_v` and `mse_test`."
      ]
    },
    {
      "cell_type": "code",
      "metadata": {
        "id": "jDsdh4T3hcIU",
        "colab": {
          "base_uri": "https://localhost:8080/",
          "height": 788
        },
        "outputId": "44d1a82b-3b38-472d-b99a-33094189952e"
      },
      "source": [
        "mse_train_v = []\n",
        "mse_test_v = []\n",
        "\n",
        "TRAINING_SIZE_MAX = 601\n",
        "TRAINING_SIZE_MIN = 20\n",
        "\n",
        "\n",
        "# compute the MSE over data with sizes from TRAINING_SIZE_MIN to TRAINING_SIZE_MAX with increasing step 20\n",
        "for train_size in range(TRAINING_SIZE_MIN, TRAINING_SIZE_MAX, 20):\n",
        "\n",
        "    # TODO: \n",
        "    #   1. use the first train_size data records from the X_train and y_train as the training data\n",
        "    #   2. train and compute the MSE on both training and test data using the train_and_test function\n",
        "    #   3. add the computed MSE to the lists mse_train_v and mse_test_v\n",
        "    # The code below is just for compilation. \n",
        "    # You need to replace it by your own code.\n",
        "    ###################################################\n",
        "    ##### YOUR CODE STARTS HERE #######################\n",
        "    ###################################################\n",
        "   # use the first split_coeff of the data as the training data\n",
        "    X_train = X[:train_size,] # the first training_size records\n",
        "    y_train = y[:train_size]\n",
        "\n",
        "    mse_train, mse_test = train_and_test(X_train, y_train, X_test, y_test)\n",
        "    \n",
        "    \n",
        "    mse_train_v.append(mse_train)\n",
        "    mse_test_v.append(mse_test)\n",
        "    print(mse_test, train_size)\n",
        "    if train_size<=581 :\n",
        "      train_size=train_size+20\n",
        "    else:\n",
        "      break\n",
        "\n",
        "    ###################################################\n",
        "    ##### YOUR CODE ENDS HERE #########################\n",
        "    ###################################################\n",
        "    \n",
        "\n",
        "# The below code generates the learning curves plot\n",
        "plt.figure(2)\n",
        "plt.plot(np.arange(TRAINING_SIZE_MIN, TRAINING_SIZE_MAX, 20), mse_train_v, 'r--', label=\"Training Error\")\n",
        "plt.plot(np.arange(TRAINING_SIZE_MIN, TRAINING_SIZE_MAX, 20), mse_test_v, 'b-', label=\"Test Error\")\n",
        "plt.xlabel('Dataset Size')\n",
        "plt.ylabel('Mean Squared Error')\n",
        "plt.legend()\n",
        "plt.figure(figsize=(20,20))\n",
        "plt.show()"
      ],
      "execution_count": 13,
      "outputs": [
        {
          "output_type": "stream",
          "name": "stdout",
          "text": [
            "2.5211029712037423 20\n",
            "1.0478049625321126 40\n",
            "0.7501432748526295 60\n",
            "0.6471171848625777 80\n",
            "0.6238019311864061 100\n",
            "0.6226537629090201 120\n",
            "0.6039410277684235 140\n",
            "0.5934751116192015 160\n",
            "0.587670803023745 180\n",
            "0.5802641821800725 200\n",
            "0.5757976364042833 220\n",
            "0.5837386412576648 240\n",
            "0.5775723362295117 260\n",
            "0.5691173665286066 280\n",
            "0.56810638232093 300\n",
            "0.5709147898338269 320\n",
            "0.5703888741094603 340\n",
            "0.5676922230168923 360\n",
            "0.5662587278632627 380\n",
            "0.5662717405789404 400\n",
            "0.5665662786624259 420\n",
            "0.5642070343389899 440\n",
            "0.5646946074339957 460\n",
            "0.5609190172422284 480\n",
            "0.5610189814605352 500\n",
            "0.5617620550326073 520\n",
            "0.5625357603430228 540\n",
            "0.5622085266929997 560\n",
            "0.5630521563715933 580\n",
            "0.5646305983361287 600\n"
          ]
        },
        {
          "output_type": "display_data",
          "data": {
            "image/png": "[encoded data removed]",
            "text/plain": [
              "<Figure size 432x288 with 1 Axes>"
            ]
          },
          "metadata": {
            "needs_background": "light"
          }
        },
        {
          "output_type": "display_data",
          "data": {
            "text/plain": [
              "<Figure size 1440x1440 with 0 Axes>"
            ]
          },
          "metadata": {}
        }
      ]
    },
    {
      "cell_type": "markdown",
      "metadata": {
        "id": "DY42bzI0fE-V"
      },
      "source": [
        "### **Task 8**\n",
        "Explain whether you think the model is underfitting or not and how much data you need before getting the optimal test error."
      ]
    },
    {
      "cell_type": "markdown",
      "metadata": {
        "id": "9A9VqDTzOdfd"
      },
      "source": [
        "The training error increases in the beginning but becomes somewhat stable afterwards. The testing loss decreases very quickly in the beginning and then becomes stable with the training loss. This shows that the model is not underfitting. It would have been underfitting if the training error and the validation error did not meet at some point or the training error would continue to decrease till the end of the plot. Howvere, since thsi is not the case, we feel it is a good fit model. From the plot we can conclude that we need around 480 data points before we reach an optimal test error of around 0.56\n"
      ]
    },
    {
      "cell_type": "markdown",
      "metadata": {
        "id": "djpsaTu_kK3T"
      },
      "source": [
        "## Polynomial Basis Expansion and Regularisation\n",
        "\n",
        "In this part, we will try to improve the linear model by basis expansion and regularisation. \n",
        "\n",
        "The task is to \n",
        "1. apply the degree 2 basis expansion to the data, \n",
        "2. build the Ridge and Lasso models using scikit-learn, and\n",
        "3. perform hyperparameter optimization to find the optimal hyperparameter lambda. \n",
        "\n",
        "For the hyperparameter optimization, you should set the last 20% of the training data for the purpose of validation and \n",
        "try lambda values [10^-4, 10^-3, 10^-2, 10^-1, 1, 10, 100]. \n",
        "\n",
        "\n",
        "We will use the scikit-learn package. You can import other scikit-learn packages if you think they are useful. Read the documentation available here: http://scikit-learn.org/stable/modules/classes.html"
      ]
    },
    {
      "cell_type": "code",
      "metadata": {
        "id": "9TM0nkNbkhfM"
      },
      "source": [
        "# import the preprocessing libs for standarization and basis expansion\n",
        "from sklearn.preprocessing import StandardScaler, PolynomialFeatures \n",
        "\n",
        "# Ridge and Lasso linear model\n",
        "from sklearn.linear_model import Ridge, Lasso "
      ],
      "execution_count": 14,
      "outputs": []
    },
    {
      "cell_type": "markdown",
      "metadata": {
        "id": "pCwBPuOXlRF7"
      },
      "source": [
        "### **Task 9**\n",
        "Let's implement the function for expanding the basis of the dataset. \n",
        "\n",
        "Hints: use `PolynomialFeatures`"
      ]
    },
    {
      "cell_type": "code",
      "metadata": {
        "id": "50azFolql1qA"
      },
      "source": [
        "def expand_basis(X, degree):\n",
        "    # TODO: expand the basis of X for the input degree\n",
        "    # The code below is just for compilation. \n",
        "    # You need to replace it by your own code.\n",
        "    ###################################################\n",
        "    ##### YOUR CODE STARTS HERE #######################\n",
        "    ###################################################\n",
        "    # Hints: use the function PolynomialFeatures\n",
        "    poly = PolynomialFeatures(degree)\n",
        "    X_=poly.fit_transform(X)\n",
        "    return X_\n",
        "    ###################################################\n",
        "    ##### YOUR CODE ENDS HERE #########################\n",
        "    ###################################################"
      ],
      "execution_count": 15,
      "outputs": []
    },
    {
      "cell_type": "markdown",
      "metadata": {
        "id": "6jwkPevimQri"
      },
      "source": [
        "### **Task 10**\n",
        "We need to expand and standardize the the data,\n",
        "and prepare the training, test and validation data on the expanded data. \n",
        "You should set the last 20% of the training data as the validation data.\n",
        "\n",
        "Hints: use `StandardScaler` and `std_scaler` to standardize the data"
      ]
    },
    {
      "cell_type": "code",
      "metadata": {
        "id": "dQCq4G9YmW7w"
      },
      "source": [
        "def prepare_data(X, y, degree):\n",
        "    # TODO: the training, test and validation data using the expanded dataset.\n",
        "    # The code below is just for compilation. \n",
        "    # You need to replace it by your own code.\n",
        "    ###################################################\n",
        "    ##### YOUR CODE STARTS HERE #######################\n",
        "    ###################################################\n",
        "    # Hints: follow the steps     \n",
        "    # 1. split the data (X, y) into training data (X_train, y_train) and test data (X_test, y_test)\n",
        "    # 2. standardize the training data and do the same transformation to the test data\n",
        "\n",
        "    # 3. expand the basis of the training data and test data\n",
        "    # 4. split the expanded training data into training data (X_train_n, y_train_n) and validation data (X_train_v, y_train_v)\n",
        "    # 5. standardize the training data and do the same transformation to the validation data\n",
        "    \n",
        "  \n",
        "    X_train, y_train, X_test, y_test = split_data(X, y, 0.80)\n",
        "\n",
        " \n",
        "    \n",
        "    # transform data\n",
        "\n",
        " \n",
        "    scaler = StandardScaler()\n",
        "    X_train_std = scaler.fit_transform(X_train)\n",
        "    X_test_std = scaler.transform( X_test )\n",
        "\n",
        "\n",
        "  \n",
        "    \n",
        "\n",
        "    X_train=expand_basis(X_train_std, degree)\n",
        "    X_test=expand_basis(X_test_std, degree)\n",
        "   \n",
        "\n",
        "\n",
        "    X_train_n, y_train_n, X_train_v, y_train_v = split_data(X_train, y_train, 0.80)\n",
        "    X_train_n = scaler.fit_transform(X_train_n)\n",
        "    X_train_v = scaler.transform( X_train_v )\n",
        "\n",
        "    \n",
        "    # further split the training data to training and validation data\n",
        "    # training data\n",
        "    X_train_n = np.nan_to_num(X_train_n)\n",
        "    X_train_v = np.nan_to_num(X_train_v)\n",
        "    y_train_n= np.nan_to_num(y_train_n)\n",
        "    y_train_v = np.nan_to_num(y_train_v)\n",
        "\n",
        "    return X_train, y_train, X_train_n, y_train_n, X_train_v, y_train_v, X_test, y_test, degree\n",
        "    ###################################################\n",
        "    ##### YOUR CODE ENDS HERE #########################\n",
        "    ###################################################\n",
        "\n",
        "X_train, y_train, X_train_n, y_train_n, X_train_v, y_train_v, X_test, y_test, degree= prepare_data(X, y, 2) \n",
        "\n",
        "# here we expand the dataset with degree 2"
      ],
      "execution_count": 16,
      "outputs": []
    },
    {
      "cell_type": "markdown",
      "metadata": {
        "id": "1mcZ7P8DfE-Y"
      },
      "source": [
        "**Why standardisation is required before basis expansion?**\n",
        "\n",
        "Assume we have a dataset with two features x1 and x2, where x1 has a small scale while x2 has a large scale. When we perform basis expansion, we  get a new feature x1x2. Since x2 has a larger scale than x1, it is likely x2 will contribute more to the value of the new feature x1x2, which means a bias is introduce here. \n",
        "The correct way is to standardise the features before the basis expansion. In this case x1 and x2 have the same scale, so they contribute same to the new feature x1x2, i.e. no bias is introduced. \n",
        "\n",
        "\n",
        "**Why standardise the training data in step 5?**\n",
        "\n",
        "Ridge and Lasso regularisation require the data to have mean of 0 and standard deviation of 1. However, after the basis expansion and splitting in step 4, the training data might not have the desired distribution, so we need to perform the standardisation on the training data. \n",
        "\n",
        " \n",
        "**Why not standardise both training and validation data together?**\n",
        "\n",
        "When we use validation data to chose the hyperparameters, we treat the validation data like the test data -- we should not assume we can access these data. So we should standardise the training data and perform the same operation to the validation data. "
      ]
    },
    {
      "cell_type": "markdown",
      "metadata": {
        "id": "i3BxxtM3nghU"
      },
      "source": [
        "### **Task 11**\n",
        "We have prepared the training data and the validation data. We can now choose the hyperparameter lambda for Ridge and Lasso using the validation data. \n",
        "We use the Ridge and Lasso models from scikit-learn: https://scikit-learn.org/stable/modules/generated/sklearn.linear_model.Ridge.html\n",
        "\n",
        "We train Ridge or Lasso models with different lambda values and check their performance on the validation data.\n",
        "The lambda value that results the best performance is then the optimal lambda. "
      ]
    },
    {
      "cell_type": "code",
      "metadata": {
        "id": "SvXcAGW1oHq1",
        "colab": {
          "base_uri": "https://localhost:8080/",
          "height": 640
        },
        "outputId": "b18be616-d42e-46ec-f6e7-12eb59339a0f"
      },
      "source": [
        "# The function takes the training and validation data as inputs, and \n",
        "# returns the lambda value that results the minimal mse\n",
        "# We use is_ridge to indicate which the model is considered.\n",
        "# is_ridge = True indicates Ridge while is_ridge = False indicates Lasso\n",
        "\n",
        "def choose_hyper_param(X_train_n, y_train_n, X_train_v, y_train_v, is_ridge: bool):\n",
        "    mse_arr = []\n",
        "    lam_arr = []\n",
        "    \n",
        "    # Try lambda values from 10^-4 to 10^2. \n",
        "    # Record the mse and the lambda values in mse_arr and lam_arr\n",
        "    # The code below is just for compilation. \n",
        "    # You need to replace it by your own code.\n",
        "    ###################################################\n",
        "    ##### YOUR CODE STARTS HERE #######################\n",
        "    ###################################################\n",
        "    if is_ridge==True:\n",
        "\n",
        "      for pow_lam in range(-4, 3):\n",
        "          lam = 10 ** pow_lam\n",
        "          clf1 = Ridge(alpha=lam)\n",
        "          clf1.fit(X_train_n, y_train_n)\n",
        "          y_train_v_predict=clf1.predict(X_train_v)\n",
        "        \n",
        "\n",
        "          mse = np.square(np.subtract(y_train_v,y_train_v_predict)).mean()\n",
        "          mse_arr.append(mse) \n",
        "          lam_arr.append(lam)\n",
        "    else:\n",
        "      for pow_lam in range(-4, 3):\n",
        "          lam = 10 ** pow_lam\n",
        "          clf2 = Lasso(alpha=lam)\n",
        "          clf2.fit(X_train_n, y_train_n)\n",
        "          y_train_v_predict=clf2.predict(X_train_v)\n",
        "          mse = np.square(np.subtract(y_train_v,y_train_v_predict)).mean()\n",
        "          mse_arr.append(mse) \n",
        "          lam_arr.append(lam)\n",
        "\n",
        "    ###################################################\n",
        "    ##### YOUR CODE ENDS HERE #########################\n",
        "    ###################################################\n",
        "\n",
        "\n",
        "    # get the index of the lambda value that has the minimal use\n",
        "    lambda_idx_min = np.argmin(np.array(mse_arr))\n",
        "\n",
        "    # plot of the lambda values and their mse\n",
        "    plt.figure()\n",
        "    plt.semilogx(lam_arr, mse_arr)\n",
        "\n",
        "    # return the optimal lambda value\n",
        "    return lam_arr[lambda_idx_min]\n",
        "\n",
        "# call the function to choose the lambda for Ridge and Lasso\n",
        "lam_ridge = choose_hyper_param(X_train_n, y_train_n, X_train_v, y_train_v, True)\n",
        "lam_lasso = choose_hyper_param(X_train_n, y_train_n, X_train_v, y_train_v, False)\n",
        "\n",
        "print(\"Ridge lambda:\", lam_ridge)\n",
        "print(\"Lasso lambda:\", lam_lasso)"
      ],
      "execution_count": 17,
      "outputs": [
        {
          "output_type": "stream",
          "name": "stderr",
          "text": [
            "/usr/local/lib/python3.7/dist-packages/sklearn/linear_model/_coordinate_descent.py:476: ConvergenceWarning: Objective did not converge. You might want to increase the number of iterations. Duality gap: 267.9684464549539, tolerance: 0.24240462667517523\n",
            "  positive)\n",
            "/usr/local/lib/python3.7/dist-packages/sklearn/linear_model/_coordinate_descent.py:476: ConvergenceWarning: Objective did not converge. You might want to increase the number of iterations. Duality gap: 0.9041018199127393, tolerance: 0.24240462667517523\n",
            "  positive)\n"
          ]
        },
        {
          "output_type": "stream",
          "name": "stdout",
          "text": [
            "Ridge lambda: 1\n",
            "Lasso lambda: 0.001\n"
          ]
        },
        {
          "output_type": "display_data",
          "data": {
            "image/png": "[encoded data removed]",
            "text/plain": [
              "<Figure size 432x288 with 1 Axes>"
            ]
          },
          "metadata": {
            "needs_background": "light"
          }
        },
        {
          "output_type": "display_data",
          "data": {
            "image/png": "[encoded data removed]",
            "text/plain": [
              "<Figure size 432x288 with 1 Axes>"
            ]
          },
          "metadata": {
            "needs_background": "light"
          }
        }
      ]
    },
    {
      "cell_type": "markdown",
      "metadata": {
        "id": "FAuX0uU5k9qD"
      },
      "source": [
        "### **Task 12**:\n",
        "Once you’ve obtained the optimal lambdas for Ridge and Lasso, train these models using these lambdas on the full training data. Then report\n",
        "the training and test error."
      ]
    },
    {
      "cell_type": "code",
      "metadata": {
        "colab": {
          "base_uri": "https://localhost:8080/"
        },
        "id": "X9M1kBQ7ckAA",
        "outputId": "7785dc73-b491-40ec-809c-d9cf1e2d636d"
      },
      "source": [
        "def Ridge_model(X_train, y_train, X_test, y_test):\n",
        "  clf1 = Ridge(alpha=lam_ridge)\n",
        "  clf1.fit(X_train, y_train)\n",
        "  y_pred_train=clf1.predict(X_train)\n",
        "  y_pred_test=clf1.predict(X_test)\n",
        "  Ridge_mse_train= np.square(np.subtract(y_train,y_pred_train)).mean()\n",
        "  Ridge_mse_test=np.square(np.subtract(y_test, y_pred_test)).mean()\n",
        "  return Ridge_mse_train, Ridge_mse_test\n",
        "\n",
        "def Lasso_model(X_train, y_train, X_test, y_test):\n",
        "  clf1 = Lasso(alpha=lam_lasso)\n",
        "  clf1.fit(X_train, y_train)\n",
        "  y_pred_train=clf1.predict(X_train)\n",
        "  y_pred_test=clf1.predict(X_test)\n",
        "  Lasso_mse_train= np.square(np.subtract(y_train,y_pred_train)).mean()\n",
        "  Lasso_mse_test= np.square(np.subtract(y_test,y_pred_test)).mean()\n",
        "  return Lasso_mse_train, Lasso_mse_test\n",
        "\n",
        "\n",
        "\n",
        "mse_ridge_train, mse_ridge_test=Ridge_model(X_train, y_train, X_test, y_test)\n",
        "mse_lasso_train, mse_lasso_test= Lasso_model(X_train, y_train, X_test, y_test)\n",
        "\n",
        "###################################################\n",
        "##### YOUR CODE ENDS HERE #########################\n",
        "###################################################\n",
        "\n",
        "# Report the result\n",
        "print('For Ridge Regression with using degree %d polynomial expansion and lambda = %.4f' % (degree, lam_ridge))\n",
        "print('--------------------------------------------------------------------------------\\n')\n",
        "print('MSE (Training) = %.4f' % mse_ridge_train)\n",
        "print('MSE (Testing)  = %.4f' % mse_ridge_test)\n",
        "\n",
        "print('\\n\\nFor Lasso with using degree %d polynomial expansion and lambda = %.4f' % (degree, lam_lasso))\n",
        "print('---------------------------------------------------------------------\\n')\n",
        "print('MSE (Training) = %.4f' % mse_lasso_train)\n",
        "print('MSE (Testing)  = %.4f' % mse_lasso_test)\n"
      ],
      "execution_count": 18,
      "outputs": [
        {
          "output_type": "stream",
          "name": "stdout",
          "text": [
            "For Ridge Regression with using degree 2 polynomial expansion and lambda = 1.0000\n",
            "--------------------------------------------------------------------------------\n",
            "\n",
            "MSE (Training) = 0.4952\n",
            "MSE (Testing)  = 0.5125\n",
            "\n",
            "\n",
            "For Lasso with using degree 2 polynomial expansion and lambda = 0.0010\n",
            "---------------------------------------------------------------------\n",
            "\n",
            "MSE (Training) = 0.4962\n",
            "MSE (Testing)  = 0.5098\n"
          ]
        },
        {
          "output_type": "stream",
          "name": "stderr",
          "text": [
            "/usr/local/lib/python3.7/dist-packages/sklearn/linear_model/_coordinate_descent.py:476: ConvergenceWarning: Objective did not converge. You might want to increase the number of iterations. Duality gap: 0.6056512715360896, tolerance: 0.3043413221031145\n",
            "  positive)\n"
          ]
        }
      ]
    },
    {
      "cell_type": "markdown",
      "metadata": {
        "id": "Os9tKKLd8gMU"
      },
      "source": [
        "## Optional: Try Larger Degrees using K-fold Cross Validation\n",
        "\n"
      ]
    },
    {
      "cell_type": "markdown",
      "metadata": {
        "id": "sfqRAlv1PBXi"
      },
      "source": [
        "### **Task 13**\n",
        "This is an optional task, which worths 5 bonus poitns.\n",
        "\n",
        "The task is to try basis expansions with higher degrees (up to degree 4) and find the degree that results the best performance. \n",
        "Instead of always using the same validation set, you should use k-fold cross validation to find the optimal hyperparameters. \n",
        "You should report the optimal hyperparameters (the basis expansion degree and the lambdas) and the MSE of the Ridge and Lasso when you apply the optimal hyperparameters. \n",
        "\n",
        "Hints: Use `KFold` to do this automatically. "
      ]
    },
    {
      "cell_type": "code",
      "metadata": {
        "colab": {
          "base_uri": "https://localhost:8080/"
        },
        "id": "UdNoQM4uqGOL",
        "outputId": "13417ceb-3630-4efb-dbed-16892eccfc5b"
      },
      "source": [
        "#For task 13, we tried alphas ranging from 10^-4 to 10^2 and polynomial expansion degrees 1, 2, 3 and 4 with kfold= 10\n",
        "\n",
        "from sklearn.model_selection import KFold\n",
        "from sklearn.metrics import accuracy_score\n",
        "kf = KFold(n_splits=10)\n",
        "kf.get_n_splits(X)\n",
        "KFold(n_splits=10, random_state=None, shuffle=False)\n",
        "alphas=[0.0001,0.001, 0.01, 0.1, 1, 10, 100]\n",
        "degree=[1,2,3,4]\n",
        "for degree in degree:\n",
        "  print(\"Degree =\", degree)\n",
        "  for alpha in alphas:\n",
        "    l1=[]\n",
        "    l2=[]\n",
        "    mse_arr=[]\n",
        "    lam_arr=[]\n",
        "    acc=[]\n",
        "  \n",
        "    for train_index, test_index in kf.split(X):\n",
        "      X_train, X_test = X[train_index], X[test_index]\n",
        "      y_train, y_test = y[train_index], y[test_index]\n",
        "      scaler = StandardScaler()\n",
        "      X_train_std = scaler.fit_transform(X_train)\n",
        "      X_test_std = scaler.transform( X_test )\n",
        "\n",
        "\n",
        "  \n",
        "    \n",
        "\n",
        "      X_train=expand_basis(X_train_std, degree)\n",
        "      X_test=expand_basis(X_test_std, degree)\n",
        "      clf1 = Ridge(alpha=alpha)\n",
        "      clf1.fit(X_train, y_train)\n",
        "      y_pred_train=clf1.predict(X_train)\n",
        "      y_pred_test=clf1.predict(X_test)\n",
        "      Ridge_mse_train= np.square(np.subtract(y_train,y_pred_train)).mean()\n",
        "      Ridge_mse_test=np.square(np.subtract(y_test, y_pred_test)).mean()\n",
        "      l1.append(Ridge_mse_train)\n",
        "      l2.append(Ridge_mse_test)\n",
        "   \n",
        "  \n",
        "    print(\"alpha =\",alpha)\n",
        "    print('MSE Train:',sum(l1)/len(l1))\n",
        "    print('MSE Test:',sum(l2)/len(l2))\n",
        "  \n",
        " \n",
        "\n",
        " \n",
        "\n",
        "\n",
        "\n",
        "\n"
      ],
      "execution_count": 19,
      "outputs": [
        {
          "output_type": "stream",
          "name": "stdout",
          "text": [
            "Degree = 1\n",
            "alpha = 0.0001\n",
            "MSE Train: 0.5628835612424441\n",
            "MSE Test: 0.5690169694624411\n",
            "alpha = 0.001\n",
            "MSE Train: 0.5628835612431203\n",
            "MSE Test: 0.5690168710875347\n",
            "alpha = 0.01\n",
            "MSE Train: 0.5628835613107408\n",
            "MSE Test: 0.5690158876383602\n",
            "alpha = 0.1\n",
            "MSE Train: 0.5628835680584288\n",
            "MSE Test: 0.5690060830697741\n",
            "alpha = 1\n",
            "MSE Train: 0.5628842287368475\n",
            "MSE Test: 0.5689109651005734\n",
            "alpha = 10\n",
            "MSE Train: 0.5629384435554444\n",
            "MSE Test: 0.5681987352673127\n",
            "alpha = 100\n",
            "MSE Train: 0.5644882747984771\n",
            "MSE Test: 0.5677433454365082\n",
            "Degree = 2\n",
            "alpha = 0.0001\n",
            "MSE Train: 0.4941853471922002\n",
            "MSE Test: 0.5418428782610738\n",
            "alpha = 0.001\n",
            "MSE Train: 0.4941853471986275\n",
            "MSE Test: 0.5418371599601478\n",
            "alpha = 0.01\n",
            "MSE Train: 0.49418534783908674\n",
            "MSE Test: 0.5417803537315408\n",
            "alpha = 0.1\n",
            "MSE Train: 0.49418540971240005\n",
            "MSE Test: 0.5412480704398843\n",
            "alpha = 1\n",
            "MSE Train: 0.49419012848565125\n",
            "MSE Test: 0.5382302247458279\n",
            "alpha = 10\n",
            "MSE Train: 0.4943928633710499\n",
            "MSE Test: 0.5379934417503182\n",
            "alpha = 100\n",
            "MSE Train: 0.49780563725970584\n",
            "MSE Test: 0.5439028850679577\n",
            "Degree = 3\n",
            "alpha = 0.0001\n",
            "MSE Train: 0.4181115976149233\n",
            "MSE Test: 61.500179959707204\n",
            "alpha = 0.001\n",
            "MSE Train: 0.41811168840261237\n",
            "MSE Test: 60.02152969497779\n",
            "alpha = 0.01\n",
            "MSE Train: 0.41811904978171555\n",
            "MSE Test: 48.31753971731628\n",
            "alpha = 0.1\n",
            "MSE Train: 0.41832196313657166\n",
            "MSE Test: 16.858759718945002\n",
            "alpha = 1\n",
            "MSE Train: 0.4191019010763763\n",
            "MSE Test: 3.4499545066635746\n",
            "alpha = 10\n",
            "MSE Train: 0.42088203073834796\n",
            "MSE Test: 1.7856074943794074\n",
            "alpha = 100\n",
            "MSE Train: 0.428319060652273\n",
            "MSE Test: 2.0928357696509523\n",
            "Degree = 4\n",
            "alpha = 0.0001\n",
            "MSE Train: 0.2577370370548117\n",
            "MSE Test: 42259.44117781556\n",
            "alpha = 0.001\n",
            "MSE Train: 0.2579756689798107\n",
            "MSE Test: 31138.072634105967\n",
            "alpha = 0.01\n",
            "MSE Train: 0.2590786744069541\n",
            "MSE Test: 63820.25922059811\n",
            "alpha = 0.1\n",
            "MSE Train: 0.26236015769126586\n",
            "MSE Test: 70553.67191386918\n",
            "alpha = 1\n",
            "MSE Train: 0.2695277915976247\n",
            "MSE Test: 23184.785706525545\n",
            "alpha = 10\n",
            "MSE Train: 0.28627122220719303\n",
            "MSE Test: 2953.4373774797396\n",
            "alpha = 100\n",
            "MSE Train: 0.318266430015432\n",
            "MSE Test: 95.59145237634627\n"
          ]
        }
      ]
    },
    {
      "cell_type": "code",
      "metadata": {
        "colab": {
          "base_uri": "https://localhost:8080/"
        },
        "id": "rGwUc0ik4O3E",
        "outputId": "5fbd55c6-a272-43c0-ed10-0fe86627b914"
      },
      "source": [
        "alphas=[0.0001,0.001, 0.01, 0.1, 1, 10, 100]\n",
        "degree=[1,2,3,4]\n",
        "for degree in degree:\n",
        "  print(\"Degree =\", degree)\n",
        "  for alpha in alphas:\n",
        "    l1=[]\n",
        "    l2=[]\n",
        "    mse_arr=[]\n",
        "    lam_arr=[]\n",
        "    acc=[]\n",
        "  \n",
        "    for train_index, test_index in kf.split(X):\n",
        "      X_train, X_test = X[train_index], X[test_index]\n",
        "      y_train, y_test = y[train_index], y[test_index]\n",
        "      scaler = StandardScaler()\n",
        "      X_train_std = scaler.fit_transform(X_train)\n",
        "      X_test_std = scaler.transform( X_test )\n",
        "\n",
        "\n",
        "  \n",
        "    \n",
        "\n",
        "      X_train=expand_basis(X_train_std, degree)\n",
        "      X_test=expand_basis(X_test_std, degree)\n",
        "      clf1 = Lasso(alpha=alpha)\n",
        "      clf1.fit(X_train, y_train)\n",
        "      y_pred_train=clf1.predict(X_train)\n",
        "      y_pred_test=clf1.predict(X_test)\n",
        "      Ridge_mse_train= np.square(np.subtract(y_train,y_pred_train)).mean()\n",
        "      Ridge_mse_test=np.square(np.subtract(y_test, y_pred_test)).mean()\n",
        "      l1.append(Ridge_mse_train)\n",
        "      l2.append(Ridge_mse_test)\n",
        "   \n",
        "  \n",
        "    print(\"alpha =\",alpha)\n",
        "    print('MSE Train:',sum(l1)/len(l1))\n",
        "    print('MSE Test:',sum(l2)/len(l2))\n",
        "  \n",
        " "
      ],
      "execution_count": 20,
      "outputs": [
        {
          "output_type": "stream",
          "name": "stdout",
          "text": [
            "Degree = 1\n",
            "alpha = 0.0001\n",
            "MSE Train: 0.5628843751877262\n",
            "MSE Test: 0.5689477185849179\n",
            "alpha = 0.001\n",
            "MSE Train: 0.5629646984877301\n",
            "MSE Test: 0.568424997644264\n",
            "alpha = 0.01\n",
            "MSE Train: 0.5671152254600953\n",
            "MSE Test: 0.5700369683523584\n",
            "alpha = 0.1\n",
            "MSE Train: 0.6172385864153123\n",
            "MSE Test: 0.6177380569675597\n",
            "alpha = 1\n",
            "MSE Train: 0.7841892984821917\n",
            "MSE Test: 0.7843296720486571\n",
            "alpha = 10\n",
            "MSE Train: 0.7841892984821917\n",
            "MSE Test: 0.7843296720486571\n",
            "alpha = 100\n",
            "MSE Train: 0.7841892984821917\n",
            "MSE Test: 0.7843296720486571\n",
            "Degree = 2\n"
          ]
        },
        {
          "output_type": "stream",
          "name": "stderr",
          "text": [
            "/usr/local/lib/python3.7/dist-packages/sklearn/linear_model/_coordinate_descent.py:476: ConvergenceWarning: Objective did not converge. You might want to increase the number of iterations. Duality gap: 48.65147414800731, tolerance: 0.3454274954627946\n",
            "  positive)\n",
            "/usr/local/lib/python3.7/dist-packages/sklearn/linear_model/_coordinate_descent.py:476: ConvergenceWarning: Objective did not converge. You might want to increase the number of iterations. Duality gap: 4.1733444990409225, tolerance: 0.3469309437386567\n",
            "  positive)\n",
            "/usr/local/lib/python3.7/dist-packages/sklearn/linear_model/_coordinate_descent.py:476: ConvergenceWarning: Objective did not converge. You might want to increase the number of iterations. Duality gap: 17.827828014821307, tolerance: 0.35048239564428196\n",
            "  positive)\n",
            "/usr/local/lib/python3.7/dist-packages/sklearn/linear_model/_coordinate_descent.py:476: ConvergenceWarning: Objective did not converge. You might want to increase the number of iterations. Duality gap: 404.3510828986457, tolerance: 0.34529471415607854\n",
            "  positive)\n",
            "/usr/local/lib/python3.7/dist-packages/sklearn/linear_model/_coordinate_descent.py:476: ConvergenceWarning: Objective did not converge. You might want to increase the number of iterations. Duality gap: 28.789473382234064, tolerance: 0.34346240925589827\n",
            "  positive)\n",
            "/usr/local/lib/python3.7/dist-packages/sklearn/linear_model/_coordinate_descent.py:476: ConvergenceWarning: Objective did not converge. You might want to increase the number of iterations. Duality gap: 37.906906630490994, tolerance: 0.3431616833030857\n",
            "  positive)\n",
            "/usr/local/lib/python3.7/dist-packages/sklearn/linear_model/_coordinate_descent.py:476: ConvergenceWarning: Objective did not converge. You might want to increase the number of iterations. Duality gap: 12.073122710432699, tolerance: 0.34885514972776754\n",
            "  positive)\n",
            "/usr/local/lib/python3.7/dist-packages/sklearn/linear_model/_coordinate_descent.py:476: ConvergenceWarning: Objective did not converge. You might want to increase the number of iterations. Duality gap: 643.7905582282626, tolerance: 0.3447363883847555\n",
            "  positive)\n",
            "/usr/local/lib/python3.7/dist-packages/sklearn/linear_model/_coordinate_descent.py:476: ConvergenceWarning: Objective did not converge. You might want to increase the number of iterations. Duality gap: 3.5295743465112537, tolerance: 0.34353903379450984\n",
            "  positive)\n",
            "/usr/local/lib/python3.7/dist-packages/sklearn/linear_model/_coordinate_descent.py:476: ConvergenceWarning: Objective did not converge. You might want to increase the number of iterations. Duality gap: 5.019943377757954, tolerance: 0.3449723746881382\n",
            "  positive)\n"
          ]
        },
        {
          "output_type": "stream",
          "name": "stdout",
          "text": [
            "alpha = 0.0001\n",
            "MSE Train: 0.49423054772908054\n",
            "MSE Test: 0.5365019529759385\n"
          ]
        },
        {
          "output_type": "stream",
          "name": "stderr",
          "text": [
            "/usr/local/lib/python3.7/dist-packages/sklearn/linear_model/_coordinate_descent.py:476: ConvergenceWarning: Objective did not converge. You might want to increase the number of iterations. Duality gap: 0.4839413273075479, tolerance: 0.3454274954627946\n",
            "  positive)\n",
            "/usr/local/lib/python3.7/dist-packages/sklearn/linear_model/_coordinate_descent.py:476: ConvergenceWarning: Objective did not converge. You might want to increase the number of iterations. Duality gap: 1.133608195056695, tolerance: 0.35048239564428196\n",
            "  positive)\n",
            "/usr/local/lib/python3.7/dist-packages/sklearn/linear_model/_coordinate_descent.py:476: ConvergenceWarning: Objective did not converge. You might want to increase the number of iterations. Duality gap: 0.8302072983847211, tolerance: 0.34529471415607854\n",
            "  positive)\n",
            "/usr/local/lib/python3.7/dist-packages/sklearn/linear_model/_coordinate_descent.py:476: ConvergenceWarning: Objective did not converge. You might want to increase the number of iterations. Duality gap: 0.6267004292781166, tolerance: 0.34346240925589827\n",
            "  positive)\n",
            "/usr/local/lib/python3.7/dist-packages/sklearn/linear_model/_coordinate_descent.py:476: ConvergenceWarning: Objective did not converge. You might want to increase the number of iterations. Duality gap: 0.874595586419673, tolerance: 0.3431616833030857\n",
            "  positive)\n",
            "/usr/local/lib/python3.7/dist-packages/sklearn/linear_model/_coordinate_descent.py:476: ConvergenceWarning: Objective did not converge. You might want to increase the number of iterations. Duality gap: 0.5535899851988688, tolerance: 0.3447363883847555\n",
            "  positive)\n",
            "/usr/local/lib/python3.7/dist-packages/sklearn/linear_model/_coordinate_descent.py:476: ConvergenceWarning: Objective did not converge. You might want to increase the number of iterations. Duality gap: 1.1584266485792796, tolerance: 0.34353903379450984\n",
            "  positive)\n"
          ]
        },
        {
          "output_type": "stream",
          "name": "stdout",
          "text": [
            "alpha = 0.001\n",
            "MSE Train: 0.4951161609461116\n",
            "MSE Test: 0.535449419262448\n",
            "alpha = 0.01\n",
            "MSE Train: 0.512045600031158\n",
            "MSE Test: 0.5480633035737486\n",
            "alpha = 0.1\n",
            "MSE Train: 0.5989366826479079\n",
            "MSE Test: 0.6043206653568942\n",
            "alpha = 1\n",
            "MSE Train: 0.7841892984821917\n",
            "MSE Test: 0.7843296720486571\n",
            "alpha = 10\n",
            "MSE Train: 0.7841892984821917\n",
            "MSE Test: 0.7843296720486571\n",
            "alpha = 100\n",
            "MSE Train: 0.7841892984821917\n",
            "MSE Test: 0.7843296720486571\n",
            "Degree = 3\n"
          ]
        },
        {
          "output_type": "stream",
          "name": "stderr",
          "text": [
            "/usr/local/lib/python3.7/dist-packages/sklearn/linear_model/_coordinate_descent.py:476: ConvergenceWarning: Objective did not converge. You might want to increase the number of iterations. Duality gap: 921.4794391334265, tolerance: 0.3454274954627946\n",
            "  positive)\n",
            "/usr/local/lib/python3.7/dist-packages/sklearn/linear_model/_coordinate_descent.py:476: ConvergenceWarning: Objective did not converge. You might want to increase the number of iterations. Duality gap: 903.1410600361203, tolerance: 0.3469309437386567\n",
            "  positive)\n",
            "/usr/local/lib/python3.7/dist-packages/sklearn/linear_model/_coordinate_descent.py:476: ConvergenceWarning: Objective did not converge. You might want to increase the number of iterations. Duality gap: 930.033354989328, tolerance: 0.35048239564428196\n",
            "  positive)\n",
            "/usr/local/lib/python3.7/dist-packages/sklearn/linear_model/_coordinate_descent.py:476: ConvergenceWarning: Objective did not converge. You might want to increase the number of iterations. Duality gap: 926.2373976885142, tolerance: 0.34529471415607854\n",
            "  positive)\n",
            "/usr/local/lib/python3.7/dist-packages/sklearn/linear_model/_coordinate_descent.py:476: ConvergenceWarning: Objective did not converge. You might want to increase the number of iterations. Duality gap: 906.3311050955258, tolerance: 0.34346240925589827\n",
            "  positive)\n",
            "/usr/local/lib/python3.7/dist-packages/sklearn/linear_model/_coordinate_descent.py:476: ConvergenceWarning: Objective did not converge. You might want to increase the number of iterations. Duality gap: 905.9253529711868, tolerance: 0.3431616833030857\n",
            "  positive)\n",
            "/usr/local/lib/python3.7/dist-packages/sklearn/linear_model/_coordinate_descent.py:476: ConvergenceWarning: Objective did not converge. You might want to increase the number of iterations. Duality gap: 934.5554272716502, tolerance: 0.34885514972776754\n",
            "  positive)\n",
            "/usr/local/lib/python3.7/dist-packages/sklearn/linear_model/_coordinate_descent.py:476: ConvergenceWarning: Objective did not converge. You might want to increase the number of iterations. Duality gap: 918.8948333542949, tolerance: 0.3447363883847555\n",
            "  positive)\n",
            "/usr/local/lib/python3.7/dist-packages/sklearn/linear_model/_coordinate_descent.py:476: ConvergenceWarning: Objective did not converge. You might want to increase the number of iterations. Duality gap: 913.0480007759522, tolerance: 0.34353903379450984\n",
            "  positive)\n",
            "/usr/local/lib/python3.7/dist-packages/sklearn/linear_model/_coordinate_descent.py:476: ConvergenceWarning: Objective did not converge. You might want to increase the number of iterations. Duality gap: 923.2296477619909, tolerance: 0.3449723746881382\n",
            "  positive)\n"
          ]
        },
        {
          "output_type": "stream",
          "name": "stdout",
          "text": [
            "alpha = 0.0001\n",
            "MSE Train: 0.42135498536645805\n",
            "MSE Test: 3.0150378456776616\n"
          ]
        },
        {
          "output_type": "stream",
          "name": "stderr",
          "text": [
            "/usr/local/lib/python3.7/dist-packages/sklearn/linear_model/_coordinate_descent.py:476: ConvergenceWarning: Objective did not converge. You might want to increase the number of iterations. Duality gap: 642.8109136248419, tolerance: 0.3454274954627946\n",
            "  positive)\n",
            "/usr/local/lib/python3.7/dist-packages/sklearn/linear_model/_coordinate_descent.py:476: ConvergenceWarning: Objective did not converge. You might want to increase the number of iterations. Duality gap: 264.79485282729115, tolerance: 0.3469309437386567\n",
            "  positive)\n",
            "/usr/local/lib/python3.7/dist-packages/sklearn/linear_model/_coordinate_descent.py:476: ConvergenceWarning: Objective did not converge. You might want to increase the number of iterations. Duality gap: 666.5307979310668, tolerance: 0.35048239564428196\n",
            "  positive)\n",
            "/usr/local/lib/python3.7/dist-packages/sklearn/linear_model/_coordinate_descent.py:476: ConvergenceWarning: Objective did not converge. You might want to increase the number of iterations. Duality gap: 746.0894341088735, tolerance: 0.34529471415607854\n",
            "  positive)\n",
            "/usr/local/lib/python3.7/dist-packages/sklearn/linear_model/_coordinate_descent.py:476: ConvergenceWarning: Objective did not converge. You might want to increase the number of iterations. Duality gap: 705.3027971778178, tolerance: 0.34346240925589827\n",
            "  positive)\n",
            "/usr/local/lib/python3.7/dist-packages/sklearn/linear_model/_coordinate_descent.py:476: ConvergenceWarning: Objective did not converge. You might want to increase the number of iterations. Duality gap: 671.714469180602, tolerance: 0.3431616833030857\n",
            "  positive)\n",
            "/usr/local/lib/python3.7/dist-packages/sklearn/linear_model/_coordinate_descent.py:476: ConvergenceWarning: Objective did not converge. You might want to increase the number of iterations. Duality gap: 747.6521471930546, tolerance: 0.34885514972776754\n",
            "  positive)\n",
            "/usr/local/lib/python3.7/dist-packages/sklearn/linear_model/_coordinate_descent.py:476: ConvergenceWarning: Objective did not converge. You might want to increase the number of iterations. Duality gap: 687.0160410583977, tolerance: 0.3447363883847555\n",
            "  positive)\n",
            "/usr/local/lib/python3.7/dist-packages/sklearn/linear_model/_coordinate_descent.py:476: ConvergenceWarning: Objective did not converge. You might want to increase the number of iterations. Duality gap: 664.7403222166587, tolerance: 0.34353903379450984\n",
            "  positive)\n",
            "/usr/local/lib/python3.7/dist-packages/sklearn/linear_model/_coordinate_descent.py:476: ConvergenceWarning: Objective did not converge. You might want to increase the number of iterations. Duality gap: 693.8442824966805, tolerance: 0.3449723746881382\n",
            "  positive)\n"
          ]
        },
        {
          "output_type": "stream",
          "name": "stdout",
          "text": [
            "alpha = 0.001\n",
            "MSE Train: 0.42811564403979785\n",
            "MSE Test: 0.9230417812638692\n"
          ]
        },
        {
          "output_type": "stream",
          "name": "stderr",
          "text": [
            "/usr/local/lib/python3.7/dist-packages/sklearn/linear_model/_coordinate_descent.py:476: ConvergenceWarning: Objective did not converge. You might want to increase the number of iterations. Duality gap: 4.630857259412096, tolerance: 0.3454274954627946\n",
            "  positive)\n",
            "/usr/local/lib/python3.7/dist-packages/sklearn/linear_model/_coordinate_descent.py:476: ConvergenceWarning: Objective did not converge. You might want to increase the number of iterations. Duality gap: 2.7125477648821743, tolerance: 0.34529471415607854\n",
            "  positive)\n",
            "/usr/local/lib/python3.7/dist-packages/sklearn/linear_model/_coordinate_descent.py:476: ConvergenceWarning: Objective did not converge. You might want to increase the number of iterations. Duality gap: 2.4591236577962263, tolerance: 0.34346240925589827\n",
            "  positive)\n",
            "/usr/local/lib/python3.7/dist-packages/sklearn/linear_model/_coordinate_descent.py:476: ConvergenceWarning: Objective did not converge. You might want to increase the number of iterations. Duality gap: 15.529478637765578, tolerance: 0.3431616833030857\n",
            "  positive)\n",
            "/usr/local/lib/python3.7/dist-packages/sklearn/linear_model/_coordinate_descent.py:476: ConvergenceWarning: Objective did not converge. You might want to increase the number of iterations. Duality gap: 3.5506349001145736, tolerance: 0.34885514972776754\n",
            "  positive)\n",
            "/usr/local/lib/python3.7/dist-packages/sklearn/linear_model/_coordinate_descent.py:476: ConvergenceWarning: Objective did not converge. You might want to increase the number of iterations. Duality gap: 1.622029319113608, tolerance: 0.3447363883847555\n",
            "  positive)\n",
            "/usr/local/lib/python3.7/dist-packages/sklearn/linear_model/_coordinate_descent.py:476: ConvergenceWarning: Objective did not converge. You might want to increase the number of iterations. Duality gap: 3.179601322775852, tolerance: 0.34353903379450984\n",
            "  positive)\n",
            "/usr/local/lib/python3.7/dist-packages/sklearn/linear_model/_coordinate_descent.py:476: ConvergenceWarning: Objective did not converge. You might want to increase the number of iterations. Duality gap: 5.083593649200566, tolerance: 0.3449723746881382\n",
            "  positive)\n"
          ]
        },
        {
          "output_type": "stream",
          "name": "stdout",
          "text": [
            "alpha = 0.01\n",
            "MSE Train: 0.47080342774406364\n",
            "MSE Test: 1.0267857299689762\n",
            "alpha = 0.1\n",
            "MSE Train: 0.5899685623899783\n",
            "MSE Test: 0.6320791889956483\n",
            "alpha = 1\n",
            "MSE Train: 0.7737067812013306\n",
            "MSE Test: 0.7764104647376537\n",
            "alpha = 10\n",
            "MSE Train: 0.7841892984821917\n",
            "MSE Test: 0.7843296720486571\n",
            "alpha = 100\n",
            "MSE Train: 0.7841892984821917\n",
            "MSE Test: 0.7843296720486571\n",
            "Degree = 4\n"
          ]
        },
        {
          "output_type": "stream",
          "name": "stderr",
          "text": [
            "/usr/local/lib/python3.7/dist-packages/sklearn/linear_model/_coordinate_descent.py:476: ConvergenceWarning: Objective did not converge. You might want to increase the number of iterations. Duality gap: 693.0994473745835, tolerance: 0.3454274954627946\n",
            "  positive)\n",
            "/usr/local/lib/python3.7/dist-packages/sklearn/linear_model/_coordinate_descent.py:476: ConvergenceWarning: Objective did not converge. You might want to increase the number of iterations. Duality gap: 664.5343224719423, tolerance: 0.3469309437386567\n",
            "  positive)\n",
            "/usr/local/lib/python3.7/dist-packages/sklearn/linear_model/_coordinate_descent.py:476: ConvergenceWarning: Objective did not converge. You might want to increase the number of iterations. Duality gap: 703.254422805156, tolerance: 0.35048239564428196\n",
            "  positive)\n",
            "/usr/local/lib/python3.7/dist-packages/sklearn/linear_model/_coordinate_descent.py:476: ConvergenceWarning: Objective did not converge. You might want to increase the number of iterations. Duality gap: 691.9643040571023, tolerance: 0.34529471415607854\n",
            "  positive)\n",
            "/usr/local/lib/python3.7/dist-packages/sklearn/linear_model/_coordinate_descent.py:476: ConvergenceWarning: Objective did not converge. You might want to increase the number of iterations. Duality gap: 674.5950247582418, tolerance: 0.34346240925589827\n",
            "  positive)\n",
            "/usr/local/lib/python3.7/dist-packages/sklearn/linear_model/_coordinate_descent.py:476: ConvergenceWarning: Objective did not converge. You might want to increase the number of iterations. Duality gap: 674.5866923036389, tolerance: 0.3431616833030857\n",
            "  positive)\n",
            "/usr/local/lib/python3.7/dist-packages/sklearn/linear_model/_coordinate_descent.py:476: ConvergenceWarning: Objective did not converge. You might want to increase the number of iterations. Duality gap: 690.2113359239506, tolerance: 0.34885514972776754\n",
            "  positive)\n",
            "/usr/local/lib/python3.7/dist-packages/sklearn/linear_model/_coordinate_descent.py:476: ConvergenceWarning: Objective did not converge. You might want to increase the number of iterations. Duality gap: 678.4207119018716, tolerance: 0.3447363883847555\n",
            "  positive)\n",
            "/usr/local/lib/python3.7/dist-packages/sklearn/linear_model/_coordinate_descent.py:476: ConvergenceWarning: Objective did not converge. You might want to increase the number of iterations. Duality gap: 682.865727706693, tolerance: 0.34353903379450984\n",
            "  positive)\n",
            "/usr/local/lib/python3.7/dist-packages/sklearn/linear_model/_coordinate_descent.py:476: ConvergenceWarning: Objective did not converge. You might want to increase the number of iterations. Duality gap: 688.870259782105, tolerance: 0.3449723746881382\n",
            "  positive)\n"
          ]
        },
        {
          "output_type": "stream",
          "name": "stdout",
          "text": [
            "alpha = 0.0001\n",
            "MSE Train: 0.29971998993029497\n",
            "MSE Test: 761.7918994125021\n"
          ]
        },
        {
          "output_type": "stream",
          "name": "stderr",
          "text": [
            "/usr/local/lib/python3.7/dist-packages/sklearn/linear_model/_coordinate_descent.py:476: ConvergenceWarning: Objective did not converge. You might want to increase the number of iterations. Duality gap: 809.7841499223663, tolerance: 0.3454274954627946\n",
            "  positive)\n",
            "/usr/local/lib/python3.7/dist-packages/sklearn/linear_model/_coordinate_descent.py:476: ConvergenceWarning: Objective did not converge. You might want to increase the number of iterations. Duality gap: 780.4629125021098, tolerance: 0.3469309437386567\n",
            "  positive)\n",
            "/usr/local/lib/python3.7/dist-packages/sklearn/linear_model/_coordinate_descent.py:476: ConvergenceWarning: Objective did not converge. You might want to increase the number of iterations. Duality gap: 824.0580740020903, tolerance: 0.35048239564428196\n",
            "  positive)\n",
            "/usr/local/lib/python3.7/dist-packages/sklearn/linear_model/_coordinate_descent.py:476: ConvergenceWarning: Objective did not converge. You might want to increase the number of iterations. Duality gap: 813.3935563649783, tolerance: 0.34529471415607854\n",
            "  positive)\n",
            "/usr/local/lib/python3.7/dist-packages/sklearn/linear_model/_coordinate_descent.py:476: ConvergenceWarning: Objective did not converge. You might want to increase the number of iterations. Duality gap: 795.5294342732655, tolerance: 0.34346240925589827\n",
            "  positive)\n",
            "/usr/local/lib/python3.7/dist-packages/sklearn/linear_model/_coordinate_descent.py:476: ConvergenceWarning: Objective did not converge. You might want to increase the number of iterations. Duality gap: 798.6345842266223, tolerance: 0.3431616833030857\n",
            "  positive)\n",
            "/usr/local/lib/python3.7/dist-packages/sklearn/linear_model/_coordinate_descent.py:476: ConvergenceWarning: Objective did not converge. You might want to increase the number of iterations. Duality gap: 803.4780155206001, tolerance: 0.34885514972776754\n",
            "  positive)\n",
            "/usr/local/lib/python3.7/dist-packages/sklearn/linear_model/_coordinate_descent.py:476: ConvergenceWarning: Objective did not converge. You might want to increase the number of iterations. Duality gap: 803.6273700717779, tolerance: 0.3447363883847555\n",
            "  positive)\n",
            "/usr/local/lib/python3.7/dist-packages/sklearn/linear_model/_coordinate_descent.py:476: ConvergenceWarning: Objective did not converge. You might want to increase the number of iterations. Duality gap: 789.8773599219355, tolerance: 0.34353903379450984\n",
            "  positive)\n",
            "/usr/local/lib/python3.7/dist-packages/sklearn/linear_model/_coordinate_descent.py:476: ConvergenceWarning: Objective did not converge. You might want to increase the number of iterations. Duality gap: 809.8976504299761, tolerance: 0.3449723746881382\n",
            "  positive)\n"
          ]
        },
        {
          "output_type": "stream",
          "name": "stdout",
          "text": [
            "alpha = 0.001\n",
            "MSE Train: 0.3291385409286244\n",
            "MSE Test: 78.4130580938814\n"
          ]
        },
        {
          "output_type": "stream",
          "name": "stderr",
          "text": [
            "/usr/local/lib/python3.7/dist-packages/sklearn/linear_model/_coordinate_descent.py:476: ConvergenceWarning: Objective did not converge. You might want to increase the number of iterations. Duality gap: 947.7947628264781, tolerance: 0.3454274954627946\n",
            "  positive)\n",
            "/usr/local/lib/python3.7/dist-packages/sklearn/linear_model/_coordinate_descent.py:476: ConvergenceWarning: Objective did not converge. You might want to increase the number of iterations. Duality gap: 947.1007282655428, tolerance: 0.3469309437386567\n",
            "  positive)\n",
            "/usr/local/lib/python3.7/dist-packages/sklearn/linear_model/_coordinate_descent.py:476: ConvergenceWarning: Objective did not converge. You might want to increase the number of iterations. Duality gap: 900.9696695136811, tolerance: 0.35048239564428196\n",
            "  positive)\n",
            "/usr/local/lib/python3.7/dist-packages/sklearn/linear_model/_coordinate_descent.py:476: ConvergenceWarning: Objective did not converge. You might want to increase the number of iterations. Duality gap: 954.353079146965, tolerance: 0.34529471415607854\n",
            "  positive)\n",
            "/usr/local/lib/python3.7/dist-packages/sklearn/linear_model/_coordinate_descent.py:476: ConvergenceWarning: Objective did not converge. You might want to increase the number of iterations. Duality gap: 884.2963962440201, tolerance: 0.34346240925589827\n",
            "  positive)\n",
            "/usr/local/lib/python3.7/dist-packages/sklearn/linear_model/_coordinate_descent.py:476: ConvergenceWarning: Objective did not converge. You might want to increase the number of iterations. Duality gap: 816.9898466295042, tolerance: 0.3431616833030857\n",
            "  positive)\n",
            "/usr/local/lib/python3.7/dist-packages/sklearn/linear_model/_coordinate_descent.py:476: ConvergenceWarning: Objective did not converge. You might want to increase the number of iterations. Duality gap: 908.9765799500519, tolerance: 0.34885514972776754\n",
            "  positive)\n",
            "/usr/local/lib/python3.7/dist-packages/sklearn/linear_model/_coordinate_descent.py:476: ConvergenceWarning: Objective did not converge. You might want to increase the number of iterations. Duality gap: 942.4164815678433, tolerance: 0.3447363883847555\n",
            "  positive)\n",
            "/usr/local/lib/python3.7/dist-packages/sklearn/linear_model/_coordinate_descent.py:476: ConvergenceWarning: Objective did not converge. You might want to increase the number of iterations. Duality gap: 951.5911146057209, tolerance: 0.34353903379450984\n",
            "  positive)\n",
            "/usr/local/lib/python3.7/dist-packages/sklearn/linear_model/_coordinate_descent.py:476: ConvergenceWarning: Objective did not converge. You might want to increase the number of iterations. Duality gap: 917.7626986460216, tolerance: 0.3449723746881382\n",
            "  positive)\n"
          ]
        },
        {
          "output_type": "stream",
          "name": "stdout",
          "text": [
            "alpha = 0.01\n",
            "MSE Train: 0.42740650188352625\n",
            "MSE Test: 15.449523869035776\n"
          ]
        },
        {
          "output_type": "stream",
          "name": "stderr",
          "text": [
            "/usr/local/lib/python3.7/dist-packages/sklearn/linear_model/_coordinate_descent.py:476: ConvergenceWarning: Objective did not converge. You might want to increase the number of iterations. Duality gap: 22.473391907522, tolerance: 0.3454274954627946\n",
            "  positive)\n",
            "/usr/local/lib/python3.7/dist-packages/sklearn/linear_model/_coordinate_descent.py:476: ConvergenceWarning: Objective did not converge. You might want to increase the number of iterations. Duality gap: 2.800752195363657, tolerance: 0.3469309437386567\n",
            "  positive)\n",
            "/usr/local/lib/python3.7/dist-packages/sklearn/linear_model/_coordinate_descent.py:476: ConvergenceWarning: Objective did not converge. You might want to increase the number of iterations. Duality gap: 162.41621644443853, tolerance: 0.35048239564428196\n",
            "  positive)\n",
            "/usr/local/lib/python3.7/dist-packages/sklearn/linear_model/_coordinate_descent.py:476: ConvergenceWarning: Objective did not converge. You might want to increase the number of iterations. Duality gap: 167.65283657145983, tolerance: 0.34529471415607854\n",
            "  positive)\n",
            "/usr/local/lib/python3.7/dist-packages/sklearn/linear_model/_coordinate_descent.py:476: ConvergenceWarning: Objective did not converge. You might want to increase the number of iterations. Duality gap: 372.24143385832076, tolerance: 0.34346240925589827\n",
            "  positive)\n",
            "/usr/local/lib/python3.7/dist-packages/sklearn/linear_model/_coordinate_descent.py:476: ConvergenceWarning: Objective did not converge. You might want to increase the number of iterations. Duality gap: 154.36499649894904, tolerance: 0.3431616833030857\n",
            "  positive)\n",
            "/usr/local/lib/python3.7/dist-packages/sklearn/linear_model/_coordinate_descent.py:476: ConvergenceWarning: Objective did not converge. You might want to increase the number of iterations. Duality gap: 80.42058052226184, tolerance: 0.34885514972776754\n",
            "  positive)\n",
            "/usr/local/lib/python3.7/dist-packages/sklearn/linear_model/_coordinate_descent.py:476: ConvergenceWarning: Objective did not converge. You might want to increase the number of iterations. Duality gap: 292.9163986520905, tolerance: 0.3447363883847555\n",
            "  positive)\n",
            "/usr/local/lib/python3.7/dist-packages/sklearn/linear_model/_coordinate_descent.py:476: ConvergenceWarning: Objective did not converge. You might want to increase the number of iterations. Duality gap: 109.74188776103665, tolerance: 0.34353903379450984\n",
            "  positive)\n",
            "/usr/local/lib/python3.7/dist-packages/sklearn/linear_model/_coordinate_descent.py:476: ConvergenceWarning: Objective did not converge. You might want to increase the number of iterations. Duality gap: 97.70745422169239, tolerance: 0.3449723746881382\n",
            "  positive)\n"
          ]
        },
        {
          "output_type": "stream",
          "name": "stdout",
          "text": [
            "alpha = 0.1\n",
            "MSE Train: 0.5693206673462856\n",
            "MSE Test: 7.324402603903829\n",
            "alpha = 1\n",
            "MSE Train: 0.7553939699220044\n",
            "MSE Test: 1.280714010958198\n",
            "alpha = 10\n",
            "MSE Train: 0.7805223269899819\n",
            "MSE Test: 0.7832302190319103\n",
            "alpha = 100\n",
            "MSE Train: 0.7841892984821917\n",
            "MSE Test: 0.7843296720486571\n"
          ]
        }
      ]
    },
    {
      "cell_type": "code",
      "metadata": {
        "colab": {
          "base_uri": "https://localhost:8080/"
        },
        "id": "JxoegXZMUwi5",
        "outputId": "ecb7a6c2-fdd2-4229-d603-9015fb9cce8c"
      },
      "source": [
        "#Ridge model with Alpha=10, degree=2\n",
        "X, y = cp.load(open('winequality-white.pickle', 'rb'))\n",
        "l1=[]\n",
        "l2=[]\n",
        "mse_arr=[]\n",
        "lam_arr=[]\n",
        "acc=[]\n",
        "for train_index, test_index in kf.split(X):\n",
        "      X_train, X_test = X[train_index], X[test_index]\n",
        "      y_train, y_test = y[train_index], y[test_index]\n",
        "      scaler = StandardScaler()\n",
        "      X_train_std = scaler.fit_transform(X_train)\n",
        "      X_test_std = scaler.transform( X_test )\n",
        "\n",
        "\n",
        "  \n",
        "    \n",
        "\n",
        "      X_train=expand_basis(X_train_std, 2)\n",
        "      X_test=expand_basis(X_test_std, 2)\n",
        "      clf1 = Ridge(alpha=10)\n",
        "      clf1.fit(X_train, y_train)\n",
        "      y_pred_train=clf1.predict(X_train)\n",
        "      y_pred_test=clf1.predict(X_test)\n",
        "      Ridge_mse_train= np.square(np.subtract(y_train,y_pred_train)).mean()\n",
        "      Ridge_mse_test=np.square(np.subtract(y_test, y_pred_test)).mean()\n",
        "      l1.append(Ridge_mse_train)\n",
        "      l2.append(Ridge_mse_test)\n",
        "   \n",
        "print('Ridge Regression:')\n",
        "print(\"alpha: 10\")\n",
        "print('MSE Train:',sum(l1)/len(l1))\n",
        "print('MSE Test:',sum(l2)/len(l2))\n",
        "\n",
        "#Lasso with alpha 0.001 and degree 2\n",
        "l1=[]\n",
        "l2=[]\n",
        "mse_arr=[]\n",
        "lam_arr=[]\n",
        "acc=[]\n",
        "for train_index, test_index in kf.split(X):\n",
        "      X_train, X_test = X[train_index], X[test_index]\n",
        "      y_train, y_test = y[train_index], y[test_index]\n",
        "      scaler = StandardScaler()\n",
        "      X_train_std = scaler.fit_transform(X_train)\n",
        "      X_test_std = scaler.transform( X_test )\n",
        "\n",
        "\n",
        "  \n",
        "    \n",
        "\n",
        "      X_train=expand_basis(X_train_std, 2)\n",
        "      X_test=expand_basis(X_test_std, 2)\n",
        "      clf1 = Lasso(alpha=0.001)\n",
        "      clf1.fit(X_train, y_train)\n",
        "      y_pred_train=clf1.predict(X_train)\n",
        "      y_pred_test=clf1.predict(X_test)\n",
        "      Ridge_mse_train= np.square(np.subtract(y_train,y_pred_train)).mean()\n",
        "      Ridge_mse_test=np.square(np.subtract(y_test, y_pred_test)).mean()\n",
        "      l1.append(Ridge_mse_train)\n",
        "      l2.append(Ridge_mse_test)\n",
        "   \n",
        "print('Lasso :')\n",
        "print(\"alpha: 0.001\")\n",
        "print('MSE Train:',sum(l1)/len(l1))\n",
        "print('MSE Test:',sum(l2)/len(l2))\n",
        "  "
      ],
      "execution_count": 21,
      "outputs": [
        {
          "output_type": "stream",
          "name": "stdout",
          "text": [
            "Ridge Regression:\n",
            "alpha: 10\n",
            "MSE Train: 0.4943928633710499\n",
            "MSE Test: 0.5379934417503182\n"
          ]
        },
        {
          "output_type": "stream",
          "name": "stderr",
          "text": [
            "/usr/local/lib/python3.7/dist-packages/sklearn/linear_model/_coordinate_descent.py:476: ConvergenceWarning: Objective did not converge. You might want to increase the number of iterations. Duality gap: 0.4839413273075479, tolerance: 0.3454274954627946\n",
            "  positive)\n",
            "/usr/local/lib/python3.7/dist-packages/sklearn/linear_model/_coordinate_descent.py:476: ConvergenceWarning: Objective did not converge. You might want to increase the number of iterations. Duality gap: 1.133608195056695, tolerance: 0.35048239564428196\n",
            "  positive)\n",
            "/usr/local/lib/python3.7/dist-packages/sklearn/linear_model/_coordinate_descent.py:476: ConvergenceWarning: Objective did not converge. You might want to increase the number of iterations. Duality gap: 0.8302072983847211, tolerance: 0.34529471415607854\n",
            "  positive)\n",
            "/usr/local/lib/python3.7/dist-packages/sklearn/linear_model/_coordinate_descent.py:476: ConvergenceWarning: Objective did not converge. You might want to increase the number of iterations. Duality gap: 0.6267004292781166, tolerance: 0.34346240925589827\n",
            "  positive)\n",
            "/usr/local/lib/python3.7/dist-packages/sklearn/linear_model/_coordinate_descent.py:476: ConvergenceWarning: Objective did not converge. You might want to increase the number of iterations. Duality gap: 0.874595586419673, tolerance: 0.3431616833030857\n",
            "  positive)\n",
            "/usr/local/lib/python3.7/dist-packages/sklearn/linear_model/_coordinate_descent.py:476: ConvergenceWarning: Objective did not converge. You might want to increase the number of iterations. Duality gap: 0.5535899851988688, tolerance: 0.3447363883847555\n",
            "  positive)\n",
            "/usr/local/lib/python3.7/dist-packages/sklearn/linear_model/_coordinate_descent.py:476: ConvergenceWarning: Objective did not converge. You might want to increase the number of iterations. Duality gap: 1.1584266485792796, tolerance: 0.34353903379450984\n",
            "  positive)\n"
          ]
        },
        {
          "output_type": "stream",
          "name": "stdout",
          "text": [
            "Lasso :\n",
            "alpha: 0.001\n",
            "MSE Train: 0.4951161609461116\n",
            "MSE Test: 0.535449419262448\n"
          ]
        }
      ]
    },
    {
      "cell_type": "markdown",
      "metadata": {
        "id": "9ApDAZl343PX"
      },
      "source": [
        "From k fold cross validation:\n",
        "\n",
        "Optimal Ridge model is:\n",
        "degree: 2, \n",
        "Alpha: 10 , \n",
        "Test MSE: 0.5379\n",
        "\n",
        "Optimal Lasso model is: \n",
        "degree: 2 , \n",
        "Alpha: 0.001, \n",
        "Test MSE: 0.5354"
      ]
    }
  ]
}